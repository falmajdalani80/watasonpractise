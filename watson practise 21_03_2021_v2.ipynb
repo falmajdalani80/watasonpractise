{
    "cells": [
        {
            "metadata": {},
            "cell_type": "code",
            "source": "\nimport ibmos2spark, os\n# @hidden_cell\n\nif os.environ.get('RUNTIME_ENV_LOCATION_TYPE') == 'external':\n    endpoint_2b2088831b094e28a2f03cab5c089253 = 'https://s3-api.us-geo.objectstorage.softlayer.net'\nelse:\n    endpoint_2b2088831b094e28a2f03cab5c089253 = 'https://s3-api.us-geo.objectstorage.service.networklayer.com'\n\ncredentials = {\n    'endpoint': endpoint_2b2088831b094e28a2f03cab5c089253,\n    'service_id': 'iam-ServiceId-9b77d2b7-7106-4f19-9bff-77a4fa2640ba',\n    'iam_service_endpoint': 'https://iam.cloud.ibm.com/oidc/token',\n    'api_key': 'WoMrEL4qf5fvVZq0gp3N_LC2ocOeS6WE8TQKOdDKYpgt'\n}\n\nconfiguration_name = 'os_2b2088831b094e28a2f03cab5c089253_configs'\ncos = ibmos2spark.CloudObjectStorage(sc, credentials, configuration_name, 'bluemix_cos')\n\nfrom pyspark.sql import SparkSession\nspark = SparkSession.builder.getOrCreate()\ndf_data_1 = spark.read\\\n  .format('org.apache.spark.sql.execution.datasources.csv.CSVFileFormat')\\\n  .option('header', 'true')\\\n  .load(cos.url('100 Sales Records.csv', 'datasciencetest19032021-donotdelete-pr-ddqh4jpx4dwrmo'))\ndf_data_1.take(10)\n",
            "execution_count": 3,
            "outputs": [
                {
                    "output_type": "execute_result",
                    "execution_count": 3,
                    "data": {
                        "text/plain": "[Row(Region='Australia and Oceania', Country='Tuvalu', Item Type='Baby Food', Sales Channel='Offline', Order Priority='H', Order Date='5/28/2010', Order ID='669165933', Ship Date='6/27/2010', Units Sold='9925', Unit Price='255.28', Unit Cost='159.42', Total Revenue='2533654.00', Total Cost='1582243.50', Total Profit='951410.50'),\n Row(Region='Central America and the Caribbean', Country='Grenada', Item Type='Cereal', Sales Channel='Online', Order Priority='C', Order Date='8/22/2012', Order ID='963881480', Ship Date='9/15/2012', Units Sold='2804', Unit Price='205.70', Unit Cost='117.11', Total Revenue='576782.80', Total Cost='328376.44', Total Profit='248406.36'),\n Row(Region='Europe', Country='Russia', Item Type='Office Supplies', Sales Channel='Offline', Order Priority='L', Order Date='5/2/2014', Order ID='341417157', Ship Date='5/8/2014', Units Sold='1779', Unit Price='651.21', Unit Cost='524.96', Total Revenue='1158502.59', Total Cost='933903.84', Total Profit='224598.75'),\n Row(Region='Sub-Saharan Africa', Country='Sao Tome and Principe', Item Type='Fruits', Sales Channel='Online', Order Priority='C', Order Date='6/20/2014', Order ID='514321792', Ship Date='7/5/2014', Units Sold='8102', Unit Price='9.33', Unit Cost='6.92', Total Revenue='75591.66', Total Cost='56065.84', Total Profit='19525.82'),\n Row(Region='Sub-Saharan Africa', Country='Rwanda', Item Type='Office Supplies', Sales Channel='Offline', Order Priority='L', Order Date='2/1/2013', Order ID='115456712', Ship Date='2/6/2013', Units Sold='5062', Unit Price='651.21', Unit Cost='524.96', Total Revenue='3296425.02', Total Cost='2657347.52', Total Profit='639077.50'),\n Row(Region='Australia and Oceania', Country='Solomon Islands', Item Type='Baby Food', Sales Channel='Online', Order Priority='C', Order Date='2/4/2015', Order ID='547995746', Ship Date='2/21/2015', Units Sold='2974', Unit Price='255.28', Unit Cost='159.42', Total Revenue='759202.72', Total Cost='474115.08', Total Profit='285087.64'),\n Row(Region='Sub-Saharan Africa', Country='Angola', Item Type='Household', Sales Channel='Offline', Order Priority='M', Order Date='4/23/2011', Order ID='135425221', Ship Date='4/27/2011', Units Sold='4187', Unit Price='668.27', Unit Cost='502.54', Total Revenue='2798046.49', Total Cost='2104134.98', Total Profit='693911.51'),\n Row(Region='Sub-Saharan Africa', Country='Burkina Faso', Item Type='Vegetables', Sales Channel='Online', Order Priority='H', Order Date='7/17/2012', Order ID='871543967', Ship Date='7/27/2012', Units Sold='8082', Unit Price='154.06', Unit Cost='90.93', Total Revenue='1245112.92', Total Cost='734896.26', Total Profit='510216.66'),\n Row(Region='Sub-Saharan Africa', Country='Republic of the Congo', Item Type='Personal Care', Sales Channel='Offline', Order Priority='M', Order Date='7/14/2015', Order ID='770463311', Ship Date='8/25/2015', Units Sold='6070', Unit Price='81.73', Unit Cost='56.67', Total Revenue='496101.10', Total Cost='343986.90', Total Profit='152114.20'),\n Row(Region='Sub-Saharan Africa', Country='Senegal', Item Type='Cereal', Sales Channel='Online', Order Priority='H', Order Date='4/18/2014', Order ID='616607081', Ship Date='5/30/2014', Units Sold='6593', Unit Price='205.70', Unit Cost='117.11', Total Revenue='1356180.10', Total Cost='772106.23', Total Profit='584073.87')]"
                    },
                    "metadata": {}
                }
            ]
        },
        {
            "metadata": {},
            "cell_type": "code",
            "source": "",
            "execution_count": null,
            "outputs": []
        }
    ],
    "metadata": {
        "kernelspec": {
            "name": "python37",
            "display_name": "Python 3.7 with Spark",
            "language": "python3"
        },
        "language_info": {
            "mimetype": "text/x-python",
            "nbconvert_exporter": "python",
            "name": "python",
            "pygments_lexer": "ipython3",
            "version": "3.7.9",
            "file_extension": ".py",
            "codemirror_mode": {
                "version": 3,
                "name": "ipython"
            }
        }
    },
    "nbformat": 4,
    "nbformat_minor": 1
}